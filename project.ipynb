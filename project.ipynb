{
 "cells": [
  {
   "cell_type": "code",
   "execution_count": 1,
   "id": "8f7a403a-b500-4bee-bec9-625f3278d4d5",
   "metadata": {},
   "outputs": [
    {
     "name": "stderr",
     "output_type": "stream",
     "text": [
      "2024-03-11 17:21:07.256395: I external/local_tsl/tsl/cuda/cudart_stub.cc:31] Could not find cuda drivers on your machine, GPU will not be used.\n",
      "2024-03-11 17:21:07.298012: E external/local_xla/xla/stream_executor/cuda/cuda_dnn.cc:9261] Unable to register cuDNN factory: Attempting to register factory for plugin cuDNN when one has already been registered\n",
      "2024-03-11 17:21:07.298056: E external/local_xla/xla/stream_executor/cuda/cuda_fft.cc:607] Unable to register cuFFT factory: Attempting to register factory for plugin cuFFT when one has already been registered\n",
      "2024-03-11 17:21:07.299226: E external/local_xla/xla/stream_executor/cuda/cuda_blas.cc:1515] Unable to register cuBLAS factory: Attempting to register factory for plugin cuBLAS when one has already been registered\n",
      "2024-03-11 17:21:07.305938: I external/local_tsl/tsl/cuda/cudart_stub.cc:31] Could not find cuda drivers on your machine, GPU will not be used.\n",
      "2024-03-11 17:21:07.306628: I tensorflow/core/platform/cpu_feature_guard.cc:182] This TensorFlow binary is optimized to use available CPU instructions in performance-critical operations.\n",
      "To enable the following instructions: AVX2 FMA, in other operations, rebuild TensorFlow with the appropriate compiler flags.\n",
      "2024-03-11 17:21:09.164405: W tensorflow/compiler/tf2tensorrt/utils/py_utils.cc:38] TF-TRT Warning: Could not find TensorRT\n"
     ]
    }
   ],
   "source": [
    "# Imports\n",
    "# You will probably need to install Tensorflow & Keras\n",
    "# Note: TensorFlow & Numpy often have version mismatches & \n",
    "#       you may need to roll back your Numpy version\n",
    "import sys\n",
    "#!{sys.executable} -m pip install scikit-image\n",
    "import sklearn\n",
    "import tensorflow as tf\n",
    "from tensorflow.keras import datasets, layers, models\n",
    "import numpy as np\n",
    "import os\n",
    "import scipy.io as scipy\n",
    "from  matplotlib import pyplot as plt\n",
    "import matplotlib.image as mpimg\n",
    "from sklearn.model_selection import train_test_split\n",
    "from skimage.transform import resize"
   ]
  },
  {
   "cell_type": "code",
   "execution_count": 15,
   "id": "13d6bd4a-9c14-40ff-a12d-6d650c34369c",
   "metadata": {},
   "outputs": [
    {
     "name": "stdout",
     "output_type": "stream",
     "text": [
      "Error loading image data/apple/.ipynb_checkpoints: [Errno 21] Is a directory: 'data/apple/.ipynb_checkpoints'\n",
      "Error loading image data/banana/.ipynb_checkpoints: [Errno 21] Is a directory: 'data/banana/.ipynb_checkpoints'\n"
     ]
    }
   ],
   "source": [
    "def load_images_from_folder(root_folder, target_size=(32,32)):\n",
    "    images = []\n",
    "    labels = []\n",
    "    \n",
    "    for class_folder in os.listdir(root_folder):\n",
    "        class_folder_path = os.path.join(root_folder, class_folder)\n",
    "        if os.path.isdir(class_folder_path):\n",
    "            for image_name in os.listdir(class_folder_path):\n",
    "                image_path = os.path.join(class_folder_path, image_name)\n",
    "                try:\n",
    "                    img = mpimg.imread(image_path)\n",
    "                    img = resize(img, target_size)\n",
    "                    #plt.imshow(img, cmap='gray')\n",
    "                    img_array = np.array(img)\n",
    "                    images.append(img_array)\n",
    "                    labels.append(class_folder)  # Use folder name as label\n",
    "                except Exception as e:\n",
    "                    print(f\"Error loading image {image_path}: {str(e)}\")\n",
    "\n",
    "    return np.array(images), np.array(labels)\n",
    "    \n",
    "data = load_images_from_folder(\"data\", (64,64))"
   ]
  },
  {
   "cell_type": "code",
   "execution_count": 22,
   "id": "c3e87584-4672-40dc-8c11-5df98a21af4c",
   "metadata": {},
   "outputs": [
    {
     "data": {
      "text/plain": [
       "array([ 5,  5, 11, 11,  5, 11,  5,  5,  5, 11,  5,  5,  5, 11,  5, 11,  5,\n",
       "        5, 11, 11,  5,  5,  5,  5, 11, 11,  5,  5,  5, 11,  5, 11, 11, 11,\n",
       "       11, 11, 11, 11,  5,  5,  5, 11,  5,  5,  5,  5, 11, 11, 11,  5, 11,\n",
       "       11,  5, 11, 11, 11,  5, 11, 11,  5, 11, 11, 11, 11, 11, 11,  5, 11,\n",
       "        5, 11,  5, 11, 11,  5, 11,  5, 11,  5,  5, 11,  5, 11, 11, 11, 11,\n",
       "        5, 11,  5,  5, 11, 11,  5, 11,  5, 11,  5, 11,  5,  5, 11, 11, 11,\n",
       "        5,  5, 11,  5, 11, 11, 11,  5,  5,  5, 11, 11, 11, 11,  5, 11,  5,\n",
       "       11, 11, 11,  5,  5,  5, 11,  5, 11,  5,  5,  5,  5, 11,  5,  5,  5,\n",
       "       11, 11,  5,  5, 11,  5, 11, 11,  5,  5,  5,  5,  5, 11,  5,  5,  5,\n",
       "       11,  5, 11,  5, 11, 11])"
      ]
     },
     "execution_count": 22,
     "metadata": {},
     "output_type": "execute_result"
    }
   ],
   "source": [
    "def shuffle_data(data):\n",
    "    images, labels = data\n",
    "    \n",
    "    indices = np.random.permutation(len(images))\n",
    "    images = images[indices]\n",
    "    labels = labels[indices]\n",
    "    \n",
    "    return images, labels\n",
    "\n",
    "def classify_labels(labels):\n",
    "    new_labels = []\n",
    "    # Initialize an empty dictionary\n",
    "    object_dict = {}\n",
    "    \n",
    "    # Open the file and read its contents\n",
    "    with open(\"map_id_label.txt\", \"r\") as file:\n",
    "        # Iterate over each line in the file\n",
    "        for line in file:\n",
    "            # Split the line based on the comma delimiter\n",
    "            parts = line.strip().split(\",\")\n",
    "            # Extract the key and value from the split parts\n",
    "            value = int(parts[0])  # Convert the key to integer\n",
    "            key = parts[1]\n",
    "            # Add the key-value pair to the dictionary\n",
    "            object_dict[key] = int(value)\n",
    "\n",
    "    for i, c in enumerate(labels):\n",
    "        if c in object_dict:\n",
    "            new_labels.append(object_dict[c])\n",
    "    \n",
    "    return np.array(new_labels)\n",
    "\n",
    "images, labels = shuffle_data(data)\n",
    "labels = classify_labels(labels)\n",
    "labels"
   ]
  },
  {
   "cell_type": "code",
   "execution_count": 23,
   "id": "483103b5-5a3e-4969-8613-4601f5117c18",
   "metadata": {},
   "outputs": [],
   "source": [
    "X_train, X_test, y_train, y_test = train_test_split(images, labels, test_size=0.20, train_size=0.80, random_state = 42)"
   ]
  },
  {
   "cell_type": "code",
   "execution_count": 24,
   "id": "7b549097-d5a9-4989-b188-45cedece5bdc",
   "metadata": {},
   "outputs": [
    {
     "name": "stdout",
     "output_type": "stream",
     "text": [
      "Epoch 1/20\n",
      "4/4 [==============================] - 2s 283ms/step - loss: 2.0578 - accuracy: 0.3701 - val_loss: 0.7812 - val_accuracy: 0.5312\n",
      "Epoch 2/20\n",
      "4/4 [==============================] - 1s 208ms/step - loss: 0.8355 - accuracy: 0.4646 - val_loss: 0.7520 - val_accuracy: 0.5312\n",
      "Epoch 3/20\n",
      "4/4 [==============================] - 1s 200ms/step - loss: 0.7663 - accuracy: 0.4567 - val_loss: 0.6985 - val_accuracy: 0.4688\n",
      "Epoch 4/20\n",
      "4/4 [==============================] - 1s 184ms/step - loss: 0.7180 - accuracy: 0.4724 - val_loss: 0.7288 - val_accuracy: 0.4688\n",
      "Epoch 5/20\n",
      "4/4 [==============================] - 1s 156ms/step - loss: 0.7135 - accuracy: 0.5118 - val_loss: 0.7399 - val_accuracy: 0.5312\n",
      "Epoch 6/20\n",
      "4/4 [==============================] - 1s 183ms/step - loss: 0.7166 - accuracy: 0.5354 - val_loss: 0.7344 - val_accuracy: 0.4688\n",
      "Epoch 7/20\n",
      "4/4 [==============================] - 1s 160ms/step - loss: 0.7118 - accuracy: 0.5039 - val_loss: 0.6893 - val_accuracy: 0.5312\n",
      "Epoch 8/20\n",
      "4/4 [==============================] - 1s 180ms/step - loss: 0.7056 - accuracy: 0.4252 - val_loss: 0.6973 - val_accuracy: 0.4688\n",
      "Epoch 9/20\n",
      "4/4 [==============================] - 1s 169ms/step - loss: 0.6964 - accuracy: 0.5591 - val_loss: 0.6898 - val_accuracy: 0.5312\n",
      "Epoch 10/20\n",
      "4/4 [==============================] - 1s 148ms/step - loss: 0.6985 - accuracy: 0.4567 - val_loss: 0.6904 - val_accuracy: 0.4688\n",
      "Epoch 11/20\n",
      "4/4 [==============================] - 1s 170ms/step - loss: 0.6943 - accuracy: 0.4488 - val_loss: 0.6837 - val_accuracy: 0.5312\n",
      "Epoch 12/20\n",
      "4/4 [==============================] - 1s 154ms/step - loss: 0.6870 - accuracy: 0.4961 - val_loss: 0.6881 - val_accuracy: 0.4688\n",
      "Epoch 13/20\n",
      "4/4 [==============================] - 1s 180ms/step - loss: 0.6892 - accuracy: 0.5039 - val_loss: 0.6859 - val_accuracy: 0.4688\n",
      "Epoch 14/20\n",
      "4/4 [==============================] - 0s 151ms/step - loss: 0.6722 - accuracy: 0.5276 - val_loss: 0.6667 - val_accuracy: 0.5312\n",
      "Epoch 15/20\n",
      "4/4 [==============================] - 1s 199ms/step - loss: 0.6736 - accuracy: 0.4961 - val_loss: 0.6523 - val_accuracy: 0.9688\n",
      "Epoch 16/20\n",
      "4/4 [==============================] - 1s 152ms/step - loss: 0.6869 - accuracy: 0.6142 - val_loss: 0.6477 - val_accuracy: 0.4688\n",
      "Epoch 17/20\n",
      "4/4 [==============================] - 1s 152ms/step - loss: 0.6536 - accuracy: 0.6220 - val_loss: 0.6198 - val_accuracy: 0.5312\n",
      "Epoch 18/20\n",
      "4/4 [==============================] - 1s 165ms/step - loss: 0.6239 - accuracy: 0.7559 - val_loss: 0.5754 - val_accuracy: 0.7812\n",
      "Epoch 19/20\n",
      "4/4 [==============================] - 1s 144ms/step - loss: 0.5500 - accuracy: 0.8504 - val_loss: 0.4814 - val_accuracy: 0.9688\n",
      "Epoch 20/20\n",
      "4/4 [==============================] - 1s 153ms/step - loss: 0.4615 - accuracy: 0.9606 - val_loss: 0.3763 - val_accuracy: 0.9688\n"
     ]
    }
   ],
   "source": [
    "model = models.Sequential()\n",
    "model.add(layers.Conv2D(32, (3, 3), activation='relu', input_shape=(64, 64, 1)))\n",
    "model.add(layers.MaxPooling2D((2, 2)))\n",
    "model.add(layers.Conv2D(64, (3, 3), activation='relu'))\n",
    "model.add(layers.MaxPooling2D((2, 2)))\n",
    "model.add(layers.Conv2D(64, (3, 3), activation='relu'))\n",
    "\n",
    "model.add(layers.Flatten())\n",
    "model.add(layers.Dense(64, activation='relu'))\n",
    "model.add(layers.Dense(20))\n",
    "\n",
    "model.compile(optimizer='adam',\n",
    "              loss=tf.keras.losses.SparseCategoricalCrossentropy(from_logits=True),\n",
    "              metrics=['accuracy'])\n",
    "\n",
    "history = model.fit(X_train, y_train, epochs=20, \n",
    "                    validation_data=(X_test, y_test))\n"
   ]
  },
  {
   "cell_type": "code",
   "execution_count": 25,
   "id": "ac9bd45b-6101-46c4-8f65-303bec61e082",
   "metadata": {},
   "outputs": [
    {
     "name": "stdout",
     "output_type": "stream",
     "text": [
      "1/1 - 0s - loss: 0.3763 - accuracy: 0.9688 - 54ms/epoch - 54ms/step\n",
      "0.96875\n"
     ]
    },
    {
     "data": {
      "image/png": "[encoded data removed]",
      "text/plain": [
       "<Figure size 640x480 with 1 Axes>"
      ]
     },
     "metadata": {},
     "output_type": "display_data"
    }
   ],
   "source": [
    "plt.plot(history.history['accuracy'], label='accuracy')\n",
    "plt.plot(history.history['val_accuracy'], label = 'val_accuracy')\n",
    "plt.xlabel('Epoch')\n",
    "plt.ylabel('Accuracy')\n",
    "plt.ylim([0.5, 1])\n",
    "plt.legend(loc='lower right')\n",
    "\n",
    "test_loss, test_acc = model.evaluate(X_test,  y_test, verbose=2)\n",
    "\n",
    "print(test_acc)"
   ]
  }
 ],
 "metadata": {
  "kernelspec": {
   "display_name": "Python 3.11 (default)",
   "language": "python",
   "name": "python3"
  },
  "language_info": {
   "codemirror_mode": {
    "name": "ipython",
    "version": 3
   },
   "file_extension": ".py",
   "mimetype": "text/x-python",
   "name": "python",
   "nbconvert_exporter": "python",
   "pygments_lexer": "ipython3",
   "version": "3.11.6"
  }
 },
 "nbformat": 4,
 "nbformat_minor": 5
}
