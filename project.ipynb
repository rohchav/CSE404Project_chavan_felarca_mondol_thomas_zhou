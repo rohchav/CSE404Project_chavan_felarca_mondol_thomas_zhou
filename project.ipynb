{
 "cells": [
  {
   "cell_type": "code",
   "execution_count": 1,
   "id": "8f7a403a-b500-4bee-bec9-625f3278d4d5",
   "metadata": {
    "ExecuteTime": {
     "end_time": "2024-04-07T19:37:15.076953Z",
     "start_time": "2024-04-07T19:37:11.107868Z"
    }
   },
   "outputs": [],
   "source": [
    "# Imports\n",
    "# You will probably need to install Tensorflow & Keras\n",
    "# Note: TensorFlow & Numpy often have version mismatches & \n",
    "#       you may need to roll back your Numpy version\n",
    "import os\n",
    "import sys\n",
    "\n",
    "import sklearn\n",
    "import scipy.io as scipy\n",
    "import numpy as np\n",
    "import matplotlib.image as mpimg\n",
    "import tensorflow as tf\n",
    "\n",
    "from tensorflow.keras import datasets, layers, models, Sequential\n",
    "from matplotlib import pyplot as plt\n",
    "from sklearn.model_selection import train_test_split\n",
    "from skimage.transform import resize"
   ]
  },
  {
   "cell_type": "code",
   "execution_count": 2,
   "id": "13d6bd4a-9c14-40ff-a12d-6d650c34369c",
   "metadata": {
    "ExecuteTime": {
     "end_time": "2024-04-07T19:38:41.504451Z",
     "start_time": "2024-04-07T19:37:15.078951Z"
    }
   },
   "outputs": [
    {
     "data": {
      "text/plain": "<matplotlib.image.AxesImage at 0x218f85fada0>"
     },
     "execution_count": 2,
     "metadata": {},
     "output_type": "execute_result"
    },
    {
     "data": {
      "text/plain": "<Figure size 640x480 with 1 Axes>",
      "image/png": "[encoded data removed]"
     },
     "metadata": {},
     "output_type": "display_data"
    }
   ],
   "source": [
    "def load_images_from_folder(root_folder, target_size=(32,32,1)):\n",
    "    images = []\n",
    "    labels = []\n",
    "    \n",
    "    for class_folder in os.listdir(root_folder):\n",
    "        class_folder_path = os.path.join(root_folder, class_folder)\n",
    "        if os.path.isdir(class_folder_path):\n",
    "            for image_name in os.listdir(class_folder_path):\n",
    "                image_path = os.path.join(class_folder_path, image_name)\n",
    "                try:\n",
    "                    img = mpimg.imread(image_path)\n",
    "                    img = resize(img, target_size)\n",
    "                    img_array = np.array(img)\n",
    "                    images.append(img_array)\n",
    "                    labels.append(class_folder)  # Use folder name as label\n",
    "                except Exception as e:\n",
    "                    print(f\"Error loading image {image_path}: {str(e)}\")\n",
    "\n",
    "    return np.array(images), np.array(labels)\n",
    "    \n",
    "path = \"D:\\Documents\\CSE\\CSE404\\JupyterNotebooks\\data\"\n",
    "data = load_images_from_folder(path, (64,64,1))\n",
    "plt.imshow(data[0][0])"
   ]
  },
  {
   "cell_type": "code",
   "execution_count": 3,
   "id": "c3e87584-4672-40dc-8c11-5df98a21af4c",
   "metadata": {
    "ExecuteTime": {
     "end_time": "2024-04-07T19:38:41.519952Z",
     "start_time": "2024-04-07T19:38:41.505951Z"
    }
   },
   "outputs": [
    {
     "data": {
      "text/plain": "array([ 0,  0,  0, ..., 16, 16, 16])"
     },
     "execution_count": 3,
     "metadata": {},
     "output_type": "execute_result"
    }
   ],
   "source": [
    "def classify_labels(labels):\n",
    "    new_labels = []\n",
    "    # Initialize an empty dictionary\n",
    "    object_dict = {}\n",
    "    \n",
    "    # Open the file and read its contents\n",
    "    with open(\"D:\\Documents\\CSE\\CSE404\\JupyterNotebooks\\map_id_label.txt\", \"r\") as file:\n",
    "        # Iterate over each line in the file\n",
    "        for line in file:\n",
    "            # Split the line based on the comma delimiter\n",
    "            parts = line.strip().split(\",\")\n",
    "            # Extract the key and value from the split parts\n",
    "            value = int(parts[0])  # Convert the key to integer\n",
    "            key = parts[1]\n",
    "            # Add the key-value pair to the dictionary\n",
    "            object_dict[key] = int(value) - 1\n",
    "\n",
    "    for i, c in enumerate(labels):\n",
    "        if c in object_dict:\n",
    "            new_labels.append(object_dict[c])\n",
    "    \n",
    "    return np.array(new_labels)\n",
    "\n",
    "images, labels = data[0], data[1]\n",
    "labels = classify_labels(labels)\n",
    "labels"
   ]
  },
  {
   "cell_type": "code",
   "execution_count": 4,
   "id": "483103b5-5a3e-4969-8613-4601f5117c18",
   "metadata": {
    "ExecuteTime": {
     "end_time": "2024-04-07T19:38:41.674951Z",
     "start_time": "2024-04-07T19:38:41.521954Z"
    }
   },
   "outputs": [
    {
     "name": "stdout",
     "output_type": "stream",
     "text": [
      "Model: \"sequential\"\n",
      "_________________________________________________________________\n",
      " Layer (type)                Output Shape              Param #   \n",
      "=================================================================\n",
      " conv2d (Conv2D)             (None, 64, 64, 16)        160       \n",
      "                                                                 \n",
      " max_pooling2d (MaxPooling2D  (None, 32, 32, 16)       0         \n",
      " )                                                               \n",
      "                                                                 \n",
      " conv2d_1 (Conv2D)           (None, 32, 32, 32)        4640      \n",
      "                                                                 \n",
      " max_pooling2d_1 (MaxPooling  (None, 16, 16, 32)       0         \n",
      " 2D)                                                             \n",
      "                                                                 \n",
      " conv2d_2 (Conv2D)           (None, 16, 16, 64)        18496     \n",
      "                                                                 \n",
      " max_pooling2d_2 (MaxPooling  (None, 8, 8, 64)         0         \n",
      " 2D)                                                             \n",
      "                                                                 \n",
      " flatten (Flatten)           (None, 4096)              0         \n",
      "                                                                 \n",
      " dense (Dense)               (None, 128)               524416    \n",
      "                                                                 \n",
      " dense_1 (Dense)             (None, 17)                2193      \n",
      "                                                                 \n",
      "=================================================================\n",
      "Total params: 549,905\n",
      "Trainable params: 549,905\n",
      "Non-trainable params: 0\n",
      "_________________________________________________________________\n"
     ]
    }
   ],
   "source": [
    "X_train, X_test, y_train, y_test = train_test_split(images, labels, test_size=0.20, train_size=0.80, random_state = 42)\n",
    "\n",
    "num_classes = 17\n",
    "\n",
    "model = models.Sequential([\n",
    "  layers.Conv2D(16, 3, padding='same', activation='relu', input_shape=(64,64,1)),\n",
    "  layers.MaxPooling2D(),\n",
    "  layers.Conv2D(32, 3, padding='same', activation='relu'),\n",
    "  layers.MaxPooling2D(),\n",
    "  layers.Conv2D(64, 3, padding='same', activation='relu'),\n",
    "  layers.MaxPooling2D(),\n",
    "  layers.Flatten(),\n",
    "  layers.Dense(128, activation='relu'),\n",
    "  layers.Dense(num_classes)\n",
    "])\n",
    "\n",
    "model.compile(optimizer='adam',\n",
    "              loss=tf.keras.losses.SparseCategoricalCrossentropy(from_logits=True),\n",
    "              metrics=['accuracy'])\n",
    "\n",
    "model.summary()"
   ]
  },
  {
   "cell_type": "code",
   "outputs": [
    {
     "name": "stdout",
     "output_type": "stream",
     "text": [
      "Epoch 1/50\n",
      "34/34 [==============================] - 2s 35ms/step - loss: 2.8385 - accuracy: 0.0597 - val_loss: 2.8350 - val_accuracy: 0.0331\n",
      "Epoch 2/50\n",
      "34/34 [==============================] - 1s 21ms/step - loss: 2.8336 - accuracy: 0.0561 - val_loss: 2.8338 - val_accuracy: 0.0368\n",
      "Epoch 3/50\n",
      "34/34 [==============================] - 1s 19ms/step - loss: 2.8308 - accuracy: 0.0625 - val_loss: 2.8282 - val_accuracy: 0.0846\n",
      "Epoch 4/50\n",
      "34/34 [==============================] - 1s 23ms/step - loss: 2.7812 - accuracy: 0.1186 - val_loss: 2.7019 - val_accuracy: 0.1066\n",
      "Epoch 5/50\n",
      "34/34 [==============================] - 1s 22ms/step - loss: 2.2881 - accuracy: 0.2904 - val_loss: 1.9945 - val_accuracy: 0.3897\n",
      "Epoch 6/50\n",
      "34/34 [==============================] - 1s 25ms/step - loss: 1.5928 - accuracy: 0.5037 - val_loss: 1.6407 - val_accuracy: 0.5037\n",
      "Epoch 7/50\n",
      "34/34 [==============================] - 1s 26ms/step - loss: 1.3456 - accuracy: 0.5836 - val_loss: 1.4889 - val_accuracy: 0.5294\n",
      "Epoch 8/50\n",
      "34/34 [==============================] - 1s 18ms/step - loss: 1.1922 - accuracy: 0.6553 - val_loss: 1.4043 - val_accuracy: 0.6176\n",
      "Epoch 9/50\n",
      "34/34 [==============================] - 1s 16ms/step - loss: 1.1042 - accuracy: 0.6636 - val_loss: 1.2866 - val_accuracy: 0.6397\n",
      "Epoch 10/50\n",
      "34/34 [==============================] - 1s 17ms/step - loss: 0.9800 - accuracy: 0.6985 - val_loss: 1.2613 - val_accuracy: 0.6434\n",
      "Epoch 11/50\n",
      "34/34 [==============================] - 1s 32ms/step - loss: 0.9577 - accuracy: 0.6930 - val_loss: 1.2276 - val_accuracy: 0.6544\n",
      "Epoch 12/50\n",
      "34/34 [==============================] - 1s 19ms/step - loss: 0.8656 - accuracy: 0.7399 - val_loss: 1.2195 - val_accuracy: 0.6434\n",
      "Epoch 13/50\n",
      "34/34 [==============================] - 1s 24ms/step - loss: 0.8012 - accuracy: 0.7472 - val_loss: 1.2147 - val_accuracy: 0.6507\n",
      "Epoch 14/50\n",
      "34/34 [==============================] - 1s 16ms/step - loss: 0.7827 - accuracy: 0.7619 - val_loss: 1.2144 - val_accuracy: 0.6801\n",
      "Epoch 15/50\n",
      "34/34 [==============================] - 1s 17ms/step - loss: 0.6940 - accuracy: 0.7849 - val_loss: 1.2169 - val_accuracy: 0.6618\n",
      "Epoch 16/50\n",
      "34/34 [==============================] - 1s 20ms/step - loss: 0.6996 - accuracy: 0.7895 - val_loss: 1.2426 - val_accuracy: 0.6397\n",
      "Epoch 17/50\n",
      "34/34 [==============================] - 1s 28ms/step - loss: 0.6043 - accuracy: 0.8116 - val_loss: 1.2401 - val_accuracy: 0.6581\n",
      "Epoch 18/50\n",
      "34/34 [==============================] - 1s 22ms/step - loss: 0.6038 - accuracy: 0.8116 - val_loss: 1.2578 - val_accuracy: 0.6471\n",
      "Epoch 19/50\n",
      "34/34 [==============================] - 1s 23ms/step - loss: 0.5546 - accuracy: 0.8290 - val_loss: 1.3466 - val_accuracy: 0.6544\n",
      "Epoch 20/50\n",
      "34/34 [==============================] - 1s 25ms/step - loss: 0.5250 - accuracy: 0.8290 - val_loss: 1.2727 - val_accuracy: 0.6691\n",
      "Epoch 21/50\n",
      "34/34 [==============================] - 1s 19ms/step - loss: 0.4916 - accuracy: 0.8373 - val_loss: 1.3299 - val_accuracy: 0.6544\n",
      "Epoch 22/50\n",
      "34/34 [==============================] - 1s 28ms/step - loss: 0.4341 - accuracy: 0.8631 - val_loss: 1.3096 - val_accuracy: 0.6838\n",
      "Epoch 23/50\n",
      "34/34 [==============================] - 1s 20ms/step - loss: 0.4039 - accuracy: 0.8741 - val_loss: 1.4501 - val_accuracy: 0.6324\n",
      "Epoch 24/50\n",
      "34/34 [==============================] - 1s 21ms/step - loss: 0.3879 - accuracy: 0.8704 - val_loss: 1.3765 - val_accuracy: 0.6801\n",
      "Epoch 25/50\n",
      "34/34 [==============================] - 1s 28ms/step - loss: 0.3310 - accuracy: 0.9072 - val_loss: 1.3820 - val_accuracy: 0.6838\n",
      "Epoch 26/50\n",
      "34/34 [==============================] - 1s 20ms/step - loss: 0.3433 - accuracy: 0.8888 - val_loss: 1.3368 - val_accuracy: 0.6985\n",
      "Epoch 27/50\n",
      "34/34 [==============================] - 1s 23ms/step - loss: 0.2684 - accuracy: 0.9246 - val_loss: 1.5242 - val_accuracy: 0.6691\n",
      "Epoch 28/50\n",
      "34/34 [==============================] - 1s 20ms/step - loss: 0.2800 - accuracy: 0.9154 - val_loss: 1.4293 - val_accuracy: 0.6801\n",
      "Epoch 29/50\n",
      "34/34 [==============================] - 1s 25ms/step - loss: 0.3070 - accuracy: 0.9044 - val_loss: 1.5290 - val_accuracy: 0.6654\n",
      "Epoch 30/50\n",
      "34/34 [==============================] - 1s 23ms/step - loss: 0.2203 - accuracy: 0.9301 - val_loss: 1.5017 - val_accuracy: 0.6949\n",
      "Epoch 31/50\n",
      "34/34 [==============================] - 1s 21ms/step - loss: 0.1866 - accuracy: 0.9550 - val_loss: 1.5864 - val_accuracy: 0.6912\n",
      "Epoch 32/50\n",
      "34/34 [==============================] - 1s 25ms/step - loss: 0.1575 - accuracy: 0.9596 - val_loss: 1.6428 - val_accuracy: 0.6949\n",
      "Epoch 33/50\n",
      "34/34 [==============================] - 1s 23ms/step - loss: 0.1504 - accuracy: 0.9577 - val_loss: 1.6798 - val_accuracy: 0.6912\n",
      "Epoch 34/50\n",
      "34/34 [==============================] - 1s 28ms/step - loss: 0.1466 - accuracy: 0.9596 - val_loss: 1.6486 - val_accuracy: 0.6985\n",
      "Epoch 35/50\n",
      "34/34 [==============================] - 1s 19ms/step - loss: 0.1443 - accuracy: 0.9614 - val_loss: 1.6639 - val_accuracy: 0.7132\n",
      "Epoch 36/50\n",
      "34/34 [==============================] - 1s 22ms/step - loss: 0.1057 - accuracy: 0.9743 - val_loss: 1.8447 - val_accuracy: 0.6507\n",
      "Epoch 37/50\n",
      "34/34 [==============================] - 1s 22ms/step - loss: 0.1112 - accuracy: 0.9669 - val_loss: 1.8096 - val_accuracy: 0.6875\n",
      "Epoch 38/50\n",
      "34/34 [==============================] - 1s 25ms/step - loss: 0.0879 - accuracy: 0.9798 - val_loss: 1.9376 - val_accuracy: 0.6912\n",
      "Epoch 39/50\n",
      "34/34 [==============================] - 1s 22ms/step - loss: 0.0830 - accuracy: 0.9789 - val_loss: 1.7964 - val_accuracy: 0.6875\n",
      "Epoch 40/50\n",
      "34/34 [==============================] - 1s 20ms/step - loss: 0.0738 - accuracy: 0.9844 - val_loss: 1.8511 - val_accuracy: 0.7022\n",
      "Epoch 41/50\n",
      "34/34 [==============================] - 1s 30ms/step - loss: 0.0565 - accuracy: 0.9844 - val_loss: 2.0043 - val_accuracy: 0.6875\n",
      "Epoch 42/50\n",
      "34/34 [==============================] - 1s 26ms/step - loss: 0.0552 - accuracy: 0.9871 - val_loss: 1.9122 - val_accuracy: 0.7132\n",
      "Epoch 43/50\n",
      "34/34 [==============================] - 1s 25ms/step - loss: 0.0384 - accuracy: 0.9926 - val_loss: 2.0177 - val_accuracy: 0.6875\n",
      "Epoch 44/50\n",
      "34/34 [==============================] - 1s 20ms/step - loss: 0.0404 - accuracy: 0.9945 - val_loss: 2.1856 - val_accuracy: 0.6765\n",
      "Epoch 45/50\n",
      "34/34 [==============================] - 1s 21ms/step - loss: 0.0366 - accuracy: 0.9917 - val_loss: 2.1485 - val_accuracy: 0.6912\n",
      "Epoch 46/50\n",
      "34/34 [==============================] - 1s 23ms/step - loss: 0.0537 - accuracy: 0.9862 - val_loss: 2.0567 - val_accuracy: 0.6949\n",
      "Epoch 47/50\n",
      "34/34 [==============================] - 1s 20ms/step - loss: 0.0331 - accuracy: 0.9945 - val_loss: 2.1884 - val_accuracy: 0.7096\n",
      "Epoch 48/50\n",
      "34/34 [==============================] - 1s 21ms/step - loss: 0.0254 - accuracy: 0.9972 - val_loss: 2.2066 - val_accuracy: 0.7169\n",
      "Epoch 49/50\n",
      "34/34 [==============================] - 1s 28ms/step - loss: 0.0204 - accuracy: 0.9954 - val_loss: 2.2250 - val_accuracy: 0.6985\n",
      "Epoch 50/50\n",
      "34/34 [==============================] - 1s 23ms/step - loss: 0.0265 - accuracy: 0.9972 - val_loss: 2.2038 - val_accuracy: 0.6949\n"
     ]
    }
   ],
   "source": [
    "history = model.fit(\n",
    "  X_train, y_train,\n",
    "  validation_data=(X_test, y_test),\n",
    "  epochs=50\n",
    ")\n"
   ],
   "metadata": {
    "collapsed": false,
    "ExecuteTime": {
     "end_time": "2024-04-07T19:39:21.416950Z",
     "start_time": "2024-04-07T19:38:41.676452Z"
    }
   },
   "id": "4c51a5b639a3060f",
   "execution_count": 5
  },
  {
   "cell_type": "code",
   "execution_count": 6,
   "id": "ac9bd45b-6101-46c4-8f65-303bec61e082",
   "metadata": {
    "ExecuteTime": {
     "end_time": "2024-04-07T19:39:21.711451Z",
     "start_time": "2024-04-07T19:39:21.419951Z"
    }
   },
   "outputs": [
    {
     "name": "stdout",
     "output_type": "stream",
     "text": [
      "9/9 - 0s - loss: 2.2038 - accuracy: 0.6949 - 50ms/epoch - 6ms/step\n",
      "0.6948529481887817\n"
     ]
    },
    {
     "data": {
      "text/plain": "<Figure size 640x480 with 1 Axes>",
      "image/png": "[encoded data removed]"
     },
     "metadata": {},
     "output_type": "display_data"
    }
   ],
   "source": [
    "plt.plot(history.history['accuracy'], label='accuracy')\n",
    "plt.plot(history.history['val_accuracy'], label = 'val_accuracy')\n",
    "plt.xlabel('Epoch')\n",
    "plt.ylabel('Accuracy')\n",
    "plt.ylim([0, 1])\n",
    "plt.legend()\n",
    "\n",
    "test_loss, test_acc = model.evaluate(X_test,  y_test, verbose=2)\n",
    "\n",
    "print(test_acc)"
   ]
  },
  {
   "cell_type": "code",
   "outputs": [
    {
     "name": "stdout",
     "output_type": "stream",
     "text": [
      "9/9 [==============================] - 0s 13ms/step\n",
      "Accuracy Score:  0.6948529411764706\n",
      "Precision Score:  0.6948529411764706\n",
      "Recall Score:  0.6948529411764706\n",
      "F1 Score:  0.6948529411764706\n"
     ]
    }
   ],
   "source": [
    "from sklearn.metrics import accuracy_score, precision_score, recall_score, f1_score\n",
    "y_pred = model.predict(X_test)\n",
    "y_pred_prob = tf.nn.softmax(y_pred, axis=-1)\n",
    "y_pred_labels = np.argmax(y_pred_prob, axis=-1)\n",
    "print(\"Accuracy Score: \",accuracy_score(y_test, y_pred_labels))\n",
    "print(\"Precision Score: \",precision_score(y_test, y_pred_labels,average=\"micro\"))\n",
    "print(\"Recall Score: \",recall_score(y_test, y_pred_labels,average=\"micro\"))\n",
    "print(\"F1 Score: \",f1_score(y_test, y_pred_labels,average=\"micro\"))"
   ],
   "metadata": {
    "collapsed": false,
    "ExecuteTime": {
     "end_time": "2024-04-07T19:39:22.005951Z",
     "start_time": "2024-04-07T19:39:21.712950Z"
    }
   },
   "id": "cf3c593764c3c84c",
   "execution_count": 7
  }
 ],
 "metadata": {
  "kernelspec": {
   "display_name": "Python 3.11 (default)",
   "language": "python",
   "name": "python3"
  },
  "language_info": {
   "codemirror_mode": {
    "name": "ipython",
    "version": 3
   },
   "file_extension": ".py",
   "mimetype": "text/x-python",
   "name": "python",
   "nbconvert_exporter": "python",
   "pygments_lexer": "ipython3",
   "version": "3.11.6"
  }
 },
 "nbformat": 4,
 "nbformat_minor": 5
}
